{
 "cells": [
  {
   "cell_type": "markdown",
   "metadata": {},
   "source": [
    "# Yelp API Restaurant Calls By City and Top Ratings\n",
    "\n",
    "- Similar to city_calls code but sorts by top rated restaurants \n",
    "- Effort to target and avoid skipping desired data (due to 1k query limit per search)\n",
    "- See city_calls.ipynb for more detailed explanation on api call function\n",
    "\n",
    "#   "
   ]
  },
  {
   "cell_type": "code",
   "execution_count": 19,
   "metadata": {},
   "outputs": [],
   "source": [
    "# Dependencies\n",
    "import matplotlib.pyplot as plt\n",
    "import pandas as pd\n",
    "import numpy as np\n",
    "import requests\n",
    "import time\n",
    "import json\n",
    "import csv\n",
    "\n",
    "# Import API key\n",
    "from api_keys import api_key"
   ]
  },
  {
   "cell_type": "markdown",
   "metadata": {},
   "source": [
    "### Perform API calls\n",
    "\n",
    "- Dataframe from cities.csv\n",
    "- Build function that calls and writes restaurant data to new csv, given a city\n",
    "- Run list of cities through function"
   ]
  },
  {
   "cell_type": "code",
   "execution_count": 22,
   "metadata": {},
   "outputs": [
    {
     "data": {
      "text/html": [
       "<div>\n",
       "<style scoped>\n",
       "    .dataframe tbody tr th:only-of-type {\n",
       "        vertical-align: middle;\n",
       "    }\n",
       "\n",
       "    .dataframe tbody tr th {\n",
       "        vertical-align: top;\n",
       "    }\n",
       "\n",
       "    .dataframe thead th {\n",
       "        text-align: right;\n",
       "    }\n",
       "</style>\n",
       "<table border=\"1\" class=\"dataframe\">\n",
       "  <thead>\n",
       "    <tr style=\"text-align: right;\">\n",
       "      <th></th>\n",
       "      <th>City</th>\n",
       "      <th>County</th>\n",
       "      <th>Population</th>\n",
       "      <th>Area (sq. mi)</th>\n",
       "    </tr>\n",
       "  </thead>\n",
       "  <tbody>\n",
       "    <tr>\n",
       "      <th>Alameda</th>\n",
       "      <td>Alameda</td>\n",
       "      <td>73,812</td>\n",
       "      <td>10.61</td>\n",
       "      <td>5.305</td>\n",
       "    </tr>\n",
       "    <tr>\n",
       "      <th>Albany</th>\n",
       "      <td>Alameda</td>\n",
       "      <td>18,539</td>\n",
       "      <td>1.79</td>\n",
       "      <td>0.895</td>\n",
       "    </tr>\n",
       "    <tr>\n",
       "      <th>American Canyon</th>\n",
       "      <td>Napa</td>\n",
       "      <td>19,454</td>\n",
       "      <td>4.84</td>\n",
       "      <td>2.420</td>\n",
       "    </tr>\n",
       "    <tr>\n",
       "      <th>Antioch</th>\n",
       "      <td>Contra Costa</td>\n",
       "      <td>102,372</td>\n",
       "      <td>28.35</td>\n",
       "      <td>14.175</td>\n",
       "    </tr>\n",
       "    <tr>\n",
       "      <th>Atherton</th>\n",
       "      <td>San Mateo</td>\n",
       "      <td>6,914</td>\n",
       "      <td>5.02</td>\n",
       "      <td>2.510</td>\n",
       "    </tr>\n",
       "  </tbody>\n",
       "</table>\n",
       "</div>"
      ],
      "text/plain": [
       "                         City   County  Population  Area (sq. mi)\n",
       "Alameda               Alameda   73,812       10.61          5.305\n",
       "Albany                Alameda   18,539        1.79          0.895\n",
       "American Canyon          Napa   19,454        4.84          2.420\n",
       "Antioch          Contra Costa  102,372       28.35         14.175\n",
       "Atherton            San Mateo    6,914        5.02          2.510"
      ]
     },
     "execution_count": 22,
     "metadata": {},
     "output_type": "execute_result"
    }
   ],
   "source": [
    "# Create dataframe from csv file\n",
    "cities_df = pd.read_csv(\"Resources/cities.csv\", names=[\"City\", \"County\", \"Population\", \"Area (sq. mi)\"])\n",
    "cities_df.head()"
   ]
  },
  {
   "cell_type": "code",
   "execution_count": 36,
   "metadata": {},
   "outputs": [],
   "source": [
    "# Function returns up to 1000 restaurant listings for input city sorted by Yelp-adjusted best rating\n",
    "def get_restaurants_rating(city, api_key):\n",
    "    \n",
    "    url = \"https://api.yelp.com/v3/businesses/search\"\n",
    "    headers = {\"Authorization\": \"Bearer %s\" % api_key}\n",
    "    restaurant_data = []\n",
    "    count = 0\n",
    "    \n",
    "    # Increases search return limit\n",
    "    for offset in range(0, 1000, 50):\n",
    "        \n",
    "        # Set parameters and pass into API calls\n",
    "        params = {\"term\": \"restaurants\", \"sort_by\": \"rating\", \"location\":f\"{city}, CA\", \"limit\":50, \n",
    "                  \"offset\":offset}\n",
    "        req = requests.get(url, params=params, headers=headers)\n",
    "        \n",
    "        # Breaks if error occurs with search\n",
    "        if req.status_code == 400:\n",
    "            break\n",
    "        elif req.status_code == 200:\n",
    "            \n",
    "            # Convert to json\n",
    "            response = req.json()\n",
    "            \n",
    "            # Log history\n",
    "            count += 1\n",
    "            print(f\"Now processing query set {count} of max 20 for {city}\")\n",
    "            \n",
    "            # Breaks if no further entries in query\n",
    "            if response[\"businesses\"] == []:\n",
    "                break\n",
    "            \n",
    "            else:\n",
    "                # Iterate through business results and extract data\n",
    "                for biz in response[\"businesses\"]:\n",
    "                    \n",
    "                    # Logic to replace missing price level data with NaN\n",
    "                    if \"price\" not in biz:\n",
    "                        restaurant_data.append([city, biz[\"name\"], biz[\"coordinates\"][\"latitude\"], \n",
    "                                                biz[\"coordinates\"][\"longitude\"], biz[\"location\"][\"address1\"], \n",
    "                                                biz[\"location\"][\"zip_code\"], biz[\"rating\"], \n",
    "                                                biz[\"review_count\"], \"\", biz[\"categories\"][0][\"title\"], \n",
    "                                                biz[\"id\"]])\n",
    "\n",
    "                    # Replace missing category data with empty string\n",
    "                    elif biz[\"categories\"] == []:\n",
    "                        restaurant_data.append([city, biz[\"name\"], biz[\"coordinates\"][\"latitude\"], \n",
    "                                                biz[\"coordinates\"][\"longitude\"], biz[\"location\"][\"address1\"], \n",
    "                                                biz[\"location\"][\"zip_code\"], biz[\"rating\"], \n",
    "                                                biz[\"review_count\"], biz[\"price\"], \"\", biz[\"id\"]])\n",
    "\n",
    "                    else:\n",
    "                        restaurant_data.append([city, biz[\"name\"], biz[\"coordinates\"][\"latitude\"], \n",
    "                                                biz[\"coordinates\"][\"longitude\"], biz[\"location\"][\"address1\"], \n",
    "                                                biz[\"location\"][\"zip_code\"], biz[\"rating\"], \n",
    "                                                biz[\"review_count\"], biz[\"price\"], \n",
    "                                                biz[\"categories\"][0][\"title\"], biz[\"id\"]])\n",
    "\n",
    "    # Write to csv\n",
    "    with open('Resources/restaurant_data_rating_2.csv', 'a', encoding=\"utf-8\") as csvFile:\n",
    "        writer = csv.writer(csvFile)\n",
    "        writer.writerows(restaurant_data)\n",
    "    csvFile.close()\n",
    "    \n",
    "    # Returns total count of restaurants in city\n",
    "    # note there is a problem with this return response code\n",
    "    return response[\"count\"]\n"
   ]
  },
  {
   "cell_type": "code",
   "execution_count": 37,
   "metadata": {},
   "outputs": [
    {
     "name": "stdout",
     "output_type": "stream",
     "text": [
      "LOG HISTORY OF API CALLS:\n",
      "---------------------------\n"
     ]
    },
    {
     "ename": "UnboundLocalError",
     "evalue": "local variable 'response' referenced before assignment",
     "output_type": "error",
     "traceback": [
      "\u001b[1;31m---------------------------------------------------------------------------\u001b[0m",
      "\u001b[1;31mUnboundLocalError\u001b[0m                         Traceback (most recent call last)",
      "\u001b[1;32m<ipython-input-37-0093cc997097>\u001b[0m in \u001b[0;36m<module>\u001b[1;34m\u001b[0m\n\u001b[0;32m     12\u001b[0m \u001b[1;33m\u001b[0m\u001b[0m\n\u001b[0;32m     13\u001b[0m     \u001b[1;31m#  Call get_restaurants fn and append to total_count list\u001b[0m\u001b[1;33m\u001b[0m\u001b[1;33m\u001b[0m\u001b[1;33m\u001b[0m\u001b[0m\n\u001b[1;32m---> 14\u001b[1;33m     \u001b[0mtotals_count\u001b[0m\u001b[1;33m.\u001b[0m\u001b[0mappend\u001b[0m\u001b[1;33m(\u001b[0m\u001b[0mget_restaurants_rating\u001b[0m\u001b[1;33m(\u001b[0m\u001b[0mcity\u001b[0m\u001b[1;33m,\u001b[0m \u001b[0mapi_key\u001b[0m\u001b[1;33m)\u001b[0m\u001b[1;33m)\u001b[0m\u001b[1;33m\u001b[0m\u001b[1;33m\u001b[0m\u001b[0m\n\u001b[0m\u001b[0;32m     15\u001b[0m \u001b[1;33m\u001b[0m\u001b[0m\n\u001b[0;32m     16\u001b[0m     \u001b[1;31m# Print log history\u001b[0m\u001b[1;33m\u001b[0m\u001b[1;33m\u001b[0m\u001b[1;33m\u001b[0m\u001b[0m\n",
      "\u001b[1;32m<ipython-input-36-f36b220e2e76>\u001b[0m in \u001b[0;36mget_restaurants_rating\u001b[1;34m(city, api_key)\u001b[0m\n\u001b[0;32m     65\u001b[0m     \u001b[1;31m# Returns total count of restaurants in city\u001b[0m\u001b[1;33m\u001b[0m\u001b[1;33m\u001b[0m\u001b[1;33m\u001b[0m\u001b[0m\n\u001b[0;32m     66\u001b[0m     \u001b[1;31m# note there is a problem with this return response code\u001b[0m\u001b[1;33m\u001b[0m\u001b[1;33m\u001b[0m\u001b[1;33m\u001b[0m\u001b[0m\n\u001b[1;32m---> 67\u001b[1;33m     \u001b[1;32mreturn\u001b[0m \u001b[0mresponse\u001b[0m\u001b[1;33m[\u001b[0m\u001b[1;34m\"total\"\u001b[0m\u001b[1;33m]\u001b[0m\u001b[1;33m\u001b[0m\u001b[1;33m\u001b[0m\u001b[0m\n\u001b[0m",
      "\u001b[1;31mUnboundLocalError\u001b[0m: local variable 'response' referenced before assignment"
     ]
    }
   ],
   "source": [
    "# Track # of cities processed\n",
    "count = 0\n",
    "\n",
    "# List to track total restaurants found in city\n",
    "totals_count = []\n",
    "\n",
    "print(\"LOG HISTORY OF API CALLS:\")\n",
    "print(\"---------------------------\")\n",
    "\n",
    "# Loop thru list of cities in cities_df\n",
    "for city in cities_df[\"City\"]:\n",
    "    \n",
    "    #  Call get_restaurants fn and append to total_count list\n",
    "    totals_count.append(get_restaurants_rating(city, api_key))\n",
    "    \n",
    "    # Print log history\n",
    "    count += 1\n",
    "    rem = len(cities_df[\"City\"]) - count\n",
    "    print(\"-----------------------------------------\")\n",
    "    if city == cities_df.iloc[-1,0]:\n",
    "        print(\"Full list of cities processed!\")\n",
    "    elif city == cities_df.iloc[-2,0]:\n",
    "        print(\"Now getting results for final city. Almost there!\")\n",
    "        print(\"-----------------------------------------\")\n",
    "    else:\n",
    "        print(f\"Data retrieval for {city} complete\")\n",
    "        print(f\"Getting results for next city.. there are {rem} cities left\")\n",
    "        print(\"-----------------------------------------\")\n",
    "\n",
    "cities_df[\"Total # of Restaurants\"] = totals_count"
   ]
  },
  {
   "cell_type": "code",
   "execution_count": 1,
   "metadata": {},
   "outputs": [],
   "source": [
    "#import dependancies for working with the the csv files\n",
    "import pandas as pd\n",
    "import numpy as np\n",
    "import csv"
   ]
  },
  {
   "cell_type": "code",
   "execution_count": 35,
   "metadata": {},
   "outputs": [
    {
     "data": {
      "text/html": [
       "<div>\n",
       "<style scoped>\n",
       "    .dataframe tbody tr th:only-of-type {\n",
       "        vertical-align: middle;\n",
       "    }\n",
       "\n",
       "    .dataframe tbody tr th {\n",
       "        vertical-align: top;\n",
       "    }\n",
       "\n",
       "    .dataframe thead th {\n",
       "        text-align: right;\n",
       "    }\n",
       "</style>\n",
       "<table border=\"1\" class=\"dataframe\">\n",
       "  <thead>\n",
       "    <tr style=\"text-align: right;\">\n",
       "      <th></th>\n",
       "      <th>City</th>\n",
       "      <th>Restaurant Name</th>\n",
       "      <th>Latitude</th>\n",
       "      <th>Longitude</th>\n",
       "      <th>Address</th>\n",
       "      <th>Zip Code</th>\n",
       "      <th>Rating</th>\n",
       "      <th>Number of Reviews</th>\n",
       "      <th>Price</th>\n",
       "      <th>Food Category</th>\n",
       "      <th>Restaurant ID</th>\n",
       "    </tr>\n",
       "  </thead>\n",
       "  <tbody>\n",
       "  </tbody>\n",
       "</table>\n",
       "</div>"
      ],
      "text/plain": [
       "Empty DataFrame\n",
       "Columns: [City, Restaurant Name, Latitude, Longitude, Address, Zip Code, Rating, Number of Reviews, Price, Food Category, Restaurant ID]\n",
       "Index: []"
      ]
     },
     "execution_count": 35,
     "metadata": {},
     "output_type": "execute_result"
    }
   ],
   "source": [
    "#checking the longitude & latitude for cities pulled to ensure that we are only getting cities in the bayarea counties\n",
    "\n",
    "\n",
    "col_names = [\"City\", \"Restaurant Name\", \"Latitude\", \"Longitude\", \"Address\", \"Zip Code\", \"Rating\", \n",
    "             \"Number of Reviews\", \"Price\", \"Food Category\", \"Restaurant ID\"]\n",
    "cities_rating_df_2 = pd.read_csv('Resources/restaurant_data_rating_2.csv', names=col_names) \n",
    "\n",
    "cities_rating_df_2.head()\n"
   ]
  },
  {
   "cell_type": "code",
   "execution_count": 34,
   "metadata": {},
   "outputs": [
    {
     "ename": "NameError",
     "evalue": "name 'cities_rating_df_2' is not defined",
     "output_type": "error",
     "traceback": [
      "\u001b[1;31m---------------------------------------------------------------------------\u001b[0m",
      "\u001b[1;31mNameError\u001b[0m                                 Traceback (most recent call last)",
      "\u001b[1;32m<ipython-input-34-f0dc8a25728d>\u001b[0m in \u001b[0;36m<module>\u001b[1;34m\u001b[0m\n\u001b[1;32m----> 1\u001b[1;33m \u001b[0mmax_lat\u001b[0m \u001b[1;33m=\u001b[0m \u001b[0mcities_rating_df_2\u001b[0m\u001b[1;33m[\u001b[0m\u001b[1;34m\"Latitude\"\u001b[0m\u001b[1;33m]\u001b[0m\u001b[1;33m.\u001b[0m\u001b[0mmax\u001b[0m\u001b[1;33m(\u001b[0m\u001b[1;33m)\u001b[0m\u001b[1;33m\u001b[0m\u001b[1;33m\u001b[0m\u001b[0m\n\u001b[0m\u001b[0;32m      2\u001b[0m \u001b[0mmin_lat\u001b[0m \u001b[1;33m=\u001b[0m \u001b[0mcities_rating_df_2\u001b[0m\u001b[1;33m[\u001b[0m\u001b[1;34m\"Latitude\"\u001b[0m\u001b[1;33m]\u001b[0m\u001b[1;33m.\u001b[0m\u001b[0mmin\u001b[0m\u001b[1;33m(\u001b[0m\u001b[1;33m)\u001b[0m\u001b[1;33m\u001b[0m\u001b[1;33m\u001b[0m\u001b[0m\n\u001b[0;32m      3\u001b[0m \u001b[0mmax_lng\u001b[0m \u001b[1;33m=\u001b[0m \u001b[0mcities_rating_df_2\u001b[0m\u001b[1;33m[\u001b[0m\u001b[1;34m\"Longitude\"\u001b[0m\u001b[1;33m]\u001b[0m\u001b[1;33m.\u001b[0m\u001b[0mmax\u001b[0m\u001b[1;33m(\u001b[0m\u001b[1;33m)\u001b[0m\u001b[1;33m\u001b[0m\u001b[1;33m\u001b[0m\u001b[0m\n\u001b[0;32m      4\u001b[0m \u001b[0mmin_lng\u001b[0m \u001b[1;33m=\u001b[0m \u001b[0mcities_rating_df_2\u001b[0m\u001b[1;33m[\u001b[0m\u001b[1;34m\"Longitude\"\u001b[0m\u001b[1;33m]\u001b[0m\u001b[1;33m.\u001b[0m\u001b[0mmin\u001b[0m\u001b[1;33m(\u001b[0m\u001b[1;33m)\u001b[0m\u001b[1;33m\u001b[0m\u001b[1;33m\u001b[0m\u001b[0m\n\u001b[0;32m      5\u001b[0m \u001b[1;33m\u001b[0m\u001b[0m\n",
      "\u001b[1;31mNameError\u001b[0m: name 'cities_rating_df_2' is not defined"
     ]
    }
   ],
   "source": [
    "max_lat = cities_rating_df_2[\"Latitude\"].max()\n",
    "min_lat = cities_rating_df_2[\"Latitude\"].min()\n",
    "max_lng = cities_rating_df_2[\"Longitude\"].max()\n",
    "min_lng = cities_rating_df_2[\"Longitude\"].min()\n",
    "\n",
    "\n",
    "print(f\"Minimum Latitude is {min_lat} degrees.\")\n",
    "print(f\"Maximum Latitude is {max_lat} degrees.\")\n",
    "print(f\"Minimum Longitude is {min_lng} degrees.\")\n",
    "print(f\"Maximum Longitude is {max_lng} degrees.\")\n",
    "\n"
   ]
  },
  {
   "cell_type": "code",
   "execution_count": 17,
   "metadata": {},
   "outputs": [
    {
     "data": {
      "text/plain": [
       "count    32952.000000\n",
       "mean       281.691157\n",
       "std        443.185252\n",
       "min          0.000000\n",
       "25%         43.000000\n",
       "50%        142.000000\n",
       "75%        346.000000\n",
       "max      10533.000000\n",
       "Name: Number of Reviews, dtype: float64"
      ]
     },
     "execution_count": 17,
     "metadata": {},
     "output_type": "execute_result"
    }
   ],
   "source": [
    "cities_rating_df[\"Number of Reviews\"].describe()"
   ]
  },
  {
   "cell_type": "code",
   "execution_count": 18,
   "metadata": {},
   "outputs": [
    {
     "data": {
      "text/plain": [
       "count    32952.000000\n",
       "mean         3.652176\n",
       "std          0.787633\n",
       "min          0.000000\n",
       "25%          3.500000\n",
       "50%          4.000000\n",
       "75%          4.000000\n",
       "max          5.000000\n",
       "Name: Rating, dtype: float64"
      ]
     },
     "execution_count": 18,
     "metadata": {},
     "output_type": "execute_result"
    }
   ],
   "source": [
    "cities_rating_df[\"Rating\"].describe()"
   ]
  }
 ],
 "metadata": {
  "kernelspec": {
   "display_name": "Python 3",
   "language": "python",
   "name": "python3"
  },
  "language_info": {
   "codemirror_mode": {
    "name": "ipython",
    "version": 3
   },
   "file_extension": ".py",
   "mimetype": "text/x-python",
   "name": "python",
   "nbconvert_exporter": "python",
   "pygments_lexer": "ipython3",
   "version": "3.6.8"
  }
 },
 "nbformat": 4,
 "nbformat_minor": 2
}
