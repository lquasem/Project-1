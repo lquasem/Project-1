{
 "cells": [
  {
   "cell_type": "markdown",
   "metadata": {},
   "source": [
    "# Yelp API Restaurant Calls By City\n",
    "\n",
    "For each city listed in cities.csv, return all restaurants found via yelp api and\n",
    "extract data regarding:\n",
    "\n",
    "- name\n",
    "- address & zip\n",
    "- coordinates\n",
    "- rating\n",
    "- review count\n",
    "- price level\n",
    "- category\n",
    "- yelp id\n",
    "\n",
    "\n",
    "From above data, also determine the following for each city:\n",
    "\n",
    "- total count of restaurants\n",
    "- distribution of categories (eg. 10% Pizza, 20% Sushi, etc.)\n",
    "- ratio of price level options (ie. total count in upper level divided by count in lower level)\n",
    "- total count of restaurants above a given rating\n",
    "- concentration of restaurants (ie. total count divided by sq. mi of city)\n"
   ]
  },
  {
   "cell_type": "code",
   "execution_count": null,
   "metadata": {},
   "outputs": [],
   "source": [
    "# Dependencies\n",
    "import matplotlib.pyplot as plt\n",
    "import pandas as pd\n",
    "import numpy as np\n",
    "import requests\n",
    "import time\n",
    "import json\n",
    "import csv\n",
    "\n",
    "# Import API key\n",
    "from api_keys import api_key"
   ]
  },
  {
   "cell_type": "markdown",
   "metadata": {},
   "source": [
    "### Perform API calls\n",
    "\n",
    "- Read cities.csv\n",
    "- Build API call and process each city\n",
    "- Extract and write data to new csv"
   ]
  },
  {
   "cell_type": "code",
   "execution_count": null,
   "metadata": {},
   "outputs": [],
   "source": []
  }
 ],
 "metadata": {
  "kernelspec": {
   "display_name": "Python 3",
   "language": "python",
   "name": "python3"
  },
  "language_info": {
   "codemirror_mode": {
    "name": "ipython",
    "version": 3
   },
   "file_extension": ".py",
   "mimetype": "text/x-python",
   "name": "python",
   "nbconvert_exporter": "python",
   "pygments_lexer": "ipython3",
   "version": "3.6.8"
  }
 },
 "nbformat": 4,
 "nbformat_minor": 2
}
