{
 "cells": [
  {
   "cell_type": "markdown",
   "metadata": {},
   "source": [
    "# GPS Coordinates Grid\n",
    "\n",
    "- Objective: Create a rectangular grid with 5-mile intervals, bounded by cities found in cities.csv\n",
    "- Purpose: Set up a list of coordinates to pass into Yelp API search queries\n",
    "- Result: Writes data to grid_coordinates2.csv\n"
   ]
  },
  {
   "cell_type": "markdown",
   "metadata": {},
   "source": [
    "### Setting Boundaries of Grid\n",
    "- Get GPS coordinates data on cities in cities.csv\n",
    "- Search latitude & longitude lists for min/max values\n",
    "- Set the 4 combinations of above coordinates as corner pts of grid"
   ]
  },
  {
   "cell_type": "code",
   "execution_count": 2,
   "metadata": {},
   "outputs": [],
   "source": [
    "import geopy.distance\n",
    "import matplotlib.pyplot as plt\n",
    "import pandas as pd\n",
    "import numpy as np\n",
    "import requests\n",
    "import time\n",
    "import json\n",
    "import csv\n",
    "from geopy.geocoders import Nominatim\n",
    "\n",
    "# #### *Hard coded due to issue obtaining accurate gps data\n",
    "\n",
    "# # Initialize variables\n",
    "# state = \", California\"\n",
    "# lat_list = []\n",
    "# lng_list = []\n",
    "\n",
    "# # Read cities.csv\n",
    "# cities_df = pd.read_csv(\"Resources/cities.csv\", names=[\"City\", \"County\", \"Population\", \"Area (sq. mi)\"])\n",
    "\n",
    "# # Searches each city and appends lat/lng data to respective lists\n",
    "# geolocator = Nominatim(user_agent='myapplication')\n",
    "# for city in cities_df[\"City\"]:\n",
    "#     loc = geolocator.geocode(city + state)\n",
    "#     lat_list.append(loc.latitude)\n",
    "#     lng_list.append(loc.longitude)\n",
    "    \n",
    "# # Set corner points of grid\n",
    "# nw = (max(lat_list), min(lng_list))\n",
    "# ne = (max(lat_list), max(lng_list))\n",
    "# sw = (min(lat_list), min(lng_list))\n",
    "# se = (min(lat_list), max(lng_list))\n",
    "\n",
    "# Set corner points of Bay Area (based on coordinates for cities Gilroy & Cloverdale)\n",
    "nw = (38.799167, -123.017222)\n",
    "ne = (38.799167, -121.580000)\n",
    "sw = (37.011944, -123.017222)\n",
    "se = (37.011944, -121.580000)"
   ]
  },
  {
   "cell_type": "markdown",
   "metadata": {},
   "source": [
    "### Mapping the Grid\n",
    "- Calculate degrees per mile for lat/lng\n",
    "- Starting at any corner point, increment lat/lng by desired interval until opposite bounds are reached\n",
    "- Pair every latitude coordinate with every longitude coordinate and save in list"
   ]
  },
  {
   "cell_type": "markdown",
   "metadata": {},
   "source": [
    "#### Calculating distance between pts to get an idea of size of area"
   ]
  },
  {
   "cell_type": "code",
   "execution_count": 3,
   "metadata": {},
   "outputs": [
    {
     "name": "stdout",
     "output_type": "stream",
     "text": [
      "77.57898772266792\n"
     ]
    }
   ],
   "source": [
    "print(geopy.distance.geodesic(nw,ne).miles)"
   ]
  },
  {
   "cell_type": "code",
   "execution_count": 4,
   "metadata": {},
   "outputs": [
    {
     "name": "stdout",
     "output_type": "stream",
     "text": [
      "123.26283515046977\n"
     ]
    }
   ],
   "source": [
    "print(geopy.distance.geodesic(se,ne).miles)"
   ]
  },
  {
   "cell_type": "markdown",
   "metadata": {},
   "source": [
    "#### Series of logic basically determines how many degrees it takes to increment lat/lng by 3 miles (4.82803 km)"
   ]
  },
  {
   "cell_type": "code",
   "execution_count": 5,
   "metadata": {},
   "outputs": [],
   "source": [
    "# Set grid increments (in km)\n",
    "grid_increment = 4.82803\n",
    "\n",
    "# Calculates distance (mi) of boundaries based on coordinates\n",
    "x_distance = geopy.distance.geodesic(nw,ne).km\n",
    "y_distance = geopy.distance.geodesic(se,ne).km\n",
    "\n",
    "# Calculates distance of degree separation for boundaries\n",
    "x_distance_deg = ne[1] - nw[1]\n",
    "y_distance_deg = ne[0] - se[0]\n",
    "\n",
    "# Calculates degrees per mile for lng & lat\n",
    "lng_per_km = x_distance_deg / x_distance\n",
    "lat_per_km = y_distance_deg / y_distance\n",
    "\n",
    "# Calculates degree increments based on desired grid_increment value\n",
    "lng_increment = round(lng_per_km * grid_increment, 6)\n",
    "lat_increment = round(lat_per_km * grid_increment, 6)"
   ]
  },
  {
   "cell_type": "markdown",
   "metadata": {},
   "source": [
    "#### Successive while loops increment from starting position, saving value at each interval until bounds reached"
   ]
  },
  {
   "cell_type": "code",
   "execution_count": 6,
   "metadata": {},
   "outputs": [],
   "source": [
    "# Expand boundary 5 miles on all sides to ensure complete coverage\n",
    "nw = (nw[0] + lat_increment, nw[1] - lng_increment)\n",
    "se = (se[0] - lat_increment, se[1] + lng_increment)\n",
    "\n",
    "# Lists to store lat/lng points in grid, initialized with nw coordinates\n",
    "lat_grid_list = [nw[0]]\n",
    "lng_grid_list = [nw[1]]\n",
    "\n",
    "# While loop calculates latitude coordinates w/ 3 mi increments until reaching limits set by se\n",
    "lat = nw[0]\n",
    "while lat >= se[0]:\n",
    "    lat = round(lat - lat_increment, 6)\n",
    "    lat_grid_list.append(lat)\n",
    "    \n",
    "# Same as above but for longitude\n",
    "lng = nw[1]\n",
    "while lng <= se[1]:\n",
    "    lng = round(lng + lng_increment, 6)\n",
    "    lng_grid_list.append(lng)"
   ]
  },
  {
   "cell_type": "markdown",
   "metadata": {},
   "source": [
    "#### Nested for loops pair every latitude coordinate with every longitude coordinate as tuples"
   ]
  },
  {
   "cell_type": "code",
   "execution_count": 7,
   "metadata": {},
   "outputs": [
    {
     "data": {
      "image/png": "[encoded data removed]",
      "text/plain": [
       "<Figure size 432x288 with 1 Axes>"
      ]
     },
     "metadata": {
      "needs_background": "light"
     },
     "output_type": "display_data"
    }
   ],
   "source": [
    "# List to store tuples of coordinates in grid\n",
    "grid_list = []\n",
    "\n",
    "# FOR TESTING IN SCATTERPLOT\n",
    "lat_grid_coordinates = []\n",
    "lng_grid_coordinates = []\n",
    "\n",
    "# Nested loop creates tuple and adds to grid_list\n",
    "for lat_coord in lat_grid_list:\n",
    "    for lng_coord in lng_grid_list:\n",
    "        grid_coordinate = (lat_coord, lng_coord)\n",
    "        \n",
    "        # FOR TESTING IN SCATTERPLOT\n",
    "        lat_grid_coordinates.append(lat_coord)\n",
    "        lng_grid_coordinates.append(lng_coord)\n",
    "        \n",
    "        grid_list.append(grid_coordinate)\n",
    "        \n",
    "# FOR TESTING IN SCATTERPLOT        \n",
    "plt.scatter(lng_grid_coordinates, lat_grid_coordinates, marker='+')\n",
    "plt.show()"
   ]
  },
  {
   "cell_type": "code",
   "execution_count": 8,
   "metadata": {},
   "outputs": [],
   "source": [
    "# write grid_list to csv\n",
    "with open('Resources/grid_coordinates2.csv', 'w', encoding=\"utf-8\") as csvFile:\n",
    "    writer = csv.writer(csvFile)\n",
    "    writer.writerows(grid_list)\n",
    "csvFile.close()"
   ]
  },
  {
   "cell_type": "code",
   "execution_count": null,
   "metadata": {},
   "outputs": [],
   "source": []
  }
 ],
 "metadata": {
  "kernelspec": {
   "display_name": "Python 3",
   "language": "python",
   "name": "python3"
  },
  "language_info": {
   "codemirror_mode": {
    "name": "ipython",
    "version": 3
   },
   "file_extension": ".py",
   "mimetype": "text/x-python",
   "name": "python",
   "nbconvert_exporter": "python",
   "pygments_lexer": "ipython3",
   "version": "3.6.8"
  }
 },
 "nbformat": 4,
 "nbformat_minor": 2
}
